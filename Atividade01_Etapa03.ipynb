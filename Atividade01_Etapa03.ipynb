{
 "cells": [
  {
   "cell_type": "markdown",
   "id": "6062aa44-0ac1-4158-b3bb-0ac4f9dd50be",
   "metadata": {},
   "source": [
    "# Atividade 01 - Praticando com Python\n",
    "Atividade 01 - Praticando o Python (Etapa 03)\\\n",
    "Desenvolvedor: Ana Julia Pietroski Anderson\\\n",
    "Matrícula: 20206355\n",
    "\n",
    "Etapa 3: Gerar números aleatórios que representem a atividade industrial (ex: toneladas de cimento produzido). Utilize alguma indústria do estado para basear seus códigos."
   ]
  },
  {
   "cell_type": "markdown",
   "id": "6cc7ba79-eb8b-47c2-8bd9-0fca82cd7c2a",
   "metadata": {},
   "source": [
    "### Dados das toneladas movimentadas no porto de Imbitura entre 2018 a 2023"
   ]
  },
  {
   "cell_type": "code",
   "execution_count": 43,
   "id": "bb411450-d901-4be0-807b-cd5f4ef400aa",
   "metadata": {},
   "outputs": [],
   "source": [
    "import pandas as pd\n",
    "import numpy as np\n",
    "\n",
    "# Definindo os meses e anos\n",
    "meses = ['janeiro', 'fevereiro', 'março', 'abril', 'maio', 'junho', 'julho', 'agosto', 'setembro', 'outubro', 'novembro', 'dezembro']\n",
    "anos = ['2018', '2019', '2020', '2021', '2022', '2023']"
   ]
  },
  {
   "cell_type": "code",
   "execution_count": 44,
   "id": "c2420e3a-e2b6-42cb-ba74-20374d95b984",
   "metadata": {},
   "outputs": [],
   "source": [
    "# Criando DataFrame\n",
    "df = pd.DataFrame(dados)"
   ]
  },
  {
   "cell_type": "code",
   "execution_count": 45,
   "id": "2f7a2a5c-06c1-4aa6-aa7f-5cdf356fcbf6",
   "metadata": {},
   "outputs": [],
   "source": [
    "# Convertendo DataFrame para HTML\n",
    "tabela_html = df.to_html(index=False)"
   ]
  },
  {
   "cell_type": "code",
   "execution_count": 46,
   "id": "8680b036-ce60-4f65-b273-8b6187c56d78",
   "metadata": {},
   "outputs": [],
   "source": [
    "# Criando uma coluna random dentro do dataframe df\n",
    "df['random'] = np.random.rand(df.shape[0])"
   ]
  },
  {
   "cell_type": "code",
   "execution_count": 47,
   "id": "ecb1ffa5-fda0-45d5-b949-d41813c59bd3",
   "metadata": {},
   "outputs": [
    {
     "data": {
      "text/plain": [
       "0     0.038076\n",
       "1     0.846035\n",
       "2     0.154742\n",
       "3     0.655243\n",
       "4     0.650524\n",
       "5     0.414044\n",
       "6     0.593791\n",
       "7     0.767276\n",
       "8     0.296513\n",
       "9     0.718859\n",
       "10    0.148639\n",
       "11    0.697494\n",
       "Name: random, dtype: float64"
      ]
     },
     "execution_count": 47,
     "metadata": {},
     "output_type": "execute_result"
    }
   ],
   "source": [
    "df['random'][0:12]"
   ]
  },
  {
   "cell_type": "code",
   "execution_count": 48,
   "id": "37f1e54c-3400-4698-8758-edc1b0585cd6",
   "metadata": {},
   "outputs": [
    {
     "name": "stdout",
     "output_type": "stream",
     "text": [
      "<table border=\"1\" class=\"dataframe\">\n",
      "  <thead>\n",
      "    <tr style=\"text-align: right;\">\n",
      "      <th>Meses</th>\n",
      "      <th>2018</th>\n",
      "      <th>2019</th>\n",
      "      <th>2020</th>\n",
      "      <th>2021</th>\n",
      "      <th>2022</th>\n",
      "      <th>2023</th>\n",
      "    </tr>\n",
      "  </thead>\n",
      "  <tbody>\n",
      "    <tr>\n",
      "      <td>janeiro</td>\n",
      "      <td>259.133</td>\n",
      "      <td>325.976</td>\n",
      "      <td>342.800</td>\n",
      "      <td>342.806</td>\n",
      "      <td>671.671</td>\n",
      "      <td>514.497</td>\n",
      "    </tr>\n",
      "    <tr>\n",
      "      <td>fevereiro</td>\n",
      "      <td>391.361</td>\n",
      "      <td>423.995</td>\n",
      "      <td>350.275</td>\n",
      "      <td>350.275</td>\n",
      "      <td>464.656</td>\n",
      "      <td>503.830</td>\n",
      "    </tr>\n",
      "    <tr>\n",
      "      <td>março</td>\n",
      "      <td>462.438</td>\n",
      "      <td>592.641</td>\n",
      "      <td>486.052</td>\n",
      "      <td>486.052</td>\n",
      "      <td>537.192</td>\n",
      "      <td>710.346</td>\n",
      "    </tr>\n",
      "    <tr>\n",
      "      <td>abril</td>\n",
      "      <td>477.584</td>\n",
      "      <td>549.229</td>\n",
      "      <td>414.448</td>\n",
      "      <td>414.448</td>\n",
      "      <td>681.368</td>\n",
      "      <td>767.772</td>\n",
      "    </tr>\n",
      "    <tr>\n",
      "      <td>maio</td>\n",
      "      <td>469.487</td>\n",
      "      <td>433.821</td>\n",
      "      <td>435.262</td>\n",
      "      <td>435.262</td>\n",
      "      <td>602.266</td>\n",
      "      <td>700.069</td>\n",
      "    </tr>\n",
      "    <tr>\n",
      "      <td>junho</td>\n",
      "      <td>555.164</td>\n",
      "      <td>542.595</td>\n",
      "      <td>602.370</td>\n",
      "      <td>602.370</td>\n",
      "      <td>543.264</td>\n",
      "      <td>527.650</td>\n",
      "    </tr>\n",
      "    <tr>\n",
      "      <td>julho</td>\n",
      "      <td>403.241</td>\n",
      "      <td>332.826</td>\n",
      "      <td>552.355</td>\n",
      "      <td>552.355</td>\n",
      "      <td>706.752</td>\n",
      "      <td>700.210</td>\n",
      "    </tr>\n",
      "    <tr>\n",
      "      <td>agosto</td>\n",
      "      <td>518.894</td>\n",
      "      <td>495.608</td>\n",
      "      <td>558.523</td>\n",
      "      <td>558.523</td>\n",
      "      <td>695.626</td>\n",
      "      <td>694.857</td>\n",
      "    </tr>\n",
      "    <tr>\n",
      "      <td>setembro</td>\n",
      "      <td>482.896</td>\n",
      "      <td>422.193</td>\n",
      "      <td>602.737</td>\n",
      "      <td>602.737</td>\n",
      "      <td>561.047</td>\n",
      "      <td>625.556</td>\n",
      "    </tr>\n",
      "    <tr>\n",
      "      <td>outubro</td>\n",
      "      <td>543.072</td>\n",
      "      <td>497.504</td>\n",
      "      <td>376.619</td>\n",
      "      <td>376.619</td>\n",
      "      <td>538.017</td>\n",
      "      <td>567.343</td>\n",
      "    </tr>\n",
      "    <tr>\n",
      "      <td>novembro</td>\n",
      "      <td>375.524</td>\n",
      "      <td>430.754</td>\n",
      "      <td>484.320</td>\n",
      "      <td>484.340</td>\n",
      "      <td>582.679</td>\n",
      "      <td>699.745</td>\n",
      "    </tr>\n",
      "    <tr>\n",
      "      <td>dezembro</td>\n",
      "      <td>283.825</td>\n",
      "      <td>514.331</td>\n",
      "      <td>662.512</td>\n",
      "      <td>662.512</td>\n",
      "      <td>537.297</td>\n",
      "      <td>684.804</td>\n",
      "    </tr>\n",
      "  </tbody>\n",
      "</table>\n"
     ]
    }
   ],
   "source": [
    "# Imprimindo o HTML da tabela\n",
    "print(tabela_html)"
   ]
  },
  {
   "cell_type": "code",
   "execution_count": null,
   "id": "b78302cd-f42f-4ac5-aefb-c7a6791132a4",
   "metadata": {},
   "outputs": [],
   "source": []
  }
 ],
 "metadata": {
  "kernelspec": {
   "display_name": "Python 3 (ipykernel)",
   "language": "python",
   "name": "python3"
  },
  "language_info": {
   "codemirror_mode": {
    "name": "ipython",
    "version": 3
   },
   "file_extension": ".py",
   "mimetype": "text/x-python",
   "name": "python",
   "nbconvert_exporter": "python",
   "pygments_lexer": "ipython3",
   "version": "3.11.8"
  }
 },
 "nbformat": 4,
 "nbformat_minor": 5
}
