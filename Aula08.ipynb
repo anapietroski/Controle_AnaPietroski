{
 "cells": [
  {
   "cell_type": "markdown",
   "id": "59fbf766-b26d-412b-9f28-d43770f7c0e0",
   "metadata": {},
   "source": [
    "# Aula 08\n",
    "Revisão\\\n",
    "Desenvolvedor: Ana Julia Pietroski Anderson"
   ]
  },
  {
   "cell_type": "code",
   "execution_count": 13,
   "id": "cf2f4b9f-7291-4b7b-9f0c-466cf9d1976e",
   "metadata": {},
   "outputs": [
    {
     "name": "stdout",
     "output_type": "stream",
     "text": [
      "Guilherme gente fina\n"
     ]
    }
   ],
   "source": [
    "# Tipos de variáveis - string\n",
    "a = 'Guilherme '\n",
    "b = a + 'gente fina'\n",
    "print(b)"
   ]
  },
  {
   "cell_type": "code",
   "execution_count": 14,
   "id": "a1b843c9-4446-4770-9fda-970245ca4d15",
   "metadata": {},
   "outputs": [
    {
     "name": "stdout",
     "output_type": "stream",
     "text": [
      "11\n",
      "<class 'int'>\n"
     ]
    }
   ],
   "source": [
    "# Tipos de variáveis - inteira\n",
    "\n",
    "c = 1\n",
    "d = c +10\n",
    "print(d)\n",
    "print(type(d))"
   ]
  },
  {
   "cell_type": "code",
   "execution_count": 15,
   "id": "ba048548-d0d8-4e32-869f-af6aefdf0bbd",
   "metadata": {},
   "outputs": [
    {
     "name": "stdout",
     "output_type": "stream",
     "text": [
      "valor de g = 21.0 e o valor de h = 110.25\n",
      "<class 'float'>\n",
      "Valor de f = 10 do tipo = <class 'int'>\n",
      "Valor de f = 10.0 do tipo = <class 'float'>\n"
     ]
    }
   ],
   "source": [
    "# Tipos de variáveis - float\n",
    "\n",
    "f = 10.5\n",
    "g = f*2\n",
    "h = f**2\n",
    "print('valor de g = '+str(g) + ' e o valor de h = '+ str(h))\n",
    "print(type(h))\n",
    "f = int(f)\n",
    "print('Valor de f = '+str(f)+ ' do tipo = ' + str(type(f)))\n",
    "f = float(f)\n",
    "print('Valor de f = '+str(f)+ ' do tipo = ' + str(type(f)))"
   ]
  },
  {
   "cell_type": "code",
   "execution_count": 16,
   "id": "a15b1ec9-35bc-436b-95ec-3ac13be01cae",
   "metadata": {},
   "outputs": [
    {
     "name": "stdout",
     "output_type": "stream",
     "text": [
      "['Guilherme', 'Flavia', 'Lucas']\n",
      "[3, 6, 6]\n",
      "<class 'list'>\n"
     ]
    }
   ],
   "source": [
    "#Exemplo dicionário\n",
    "\n",
    "dicionario = {\n",
    "    'alunos':['Guilherme', 'Flavia', 'Lucas'],\n",
    "    'notas':[3, 6, 6]\n",
    "}\n",
    "\n",
    "print(dicionario['alunos'])\n",
    "print(dicionario['notas'])\n",
    "print(type(dicionario['notas']))"
   ]
  },
  {
   "cell_type": "code",
   "execution_count": 17,
   "id": "01a123ba-4173-443e-b30d-200b21b9d346",
   "metadata": {},
   "outputs": [
    {
     "name": "stdout",
     "output_type": "stream",
     "text": [
      "0 Guilherme nota = 3\n",
      "1 Flavia nota = 6\n",
      "2 Lucas nota = 6\n",
      " \n",
      "0 Guilherme nota = 3\n",
      "1 Flavia nota = 6\n",
      "2 Lucas nota = 6\n"
     ]
    }
   ],
   "source": [
    "# Treinando loop\n",
    "for ii,aluno in enumerate(dicionario['alunos']):\n",
    "    print(str(ii) + ' '+ aluno + ' nota = ' + str(dicionario['notas'][ii])) \n",
    "print(' ')\n",
    "for ii in range(0,len(dicionario['alunos'])):\n",
    "    print(str(ii) + ' '+ str(dicionario['alunos'][ii]) + ' nota = ' + str(dicionario['notas'][ii])) "
   ]
  },
  {
   "cell_type": "code",
   "execution_count": 18,
   "id": "c24f1adf-f7b3-401a-89c1-618c04dfecb5",
   "metadata": {},
   "outputs": [
    {
     "name": "stdout",
     "output_type": "stream",
     "text": [
      "0 Guilherme nota = 10.0\n",
      "1 Flavia nota = 6\n",
      "2 Lucas nota = 6\n",
      " \n",
      "0 Guilherme nota = 3\n",
      "1 Flavia nota = 6\n",
      "2 Lucas nota = 10.0\n"
     ]
    }
   ],
   "source": [
    "# Treinando loop com condição\n",
    "for ii,aluno in enumerate(dicionario['alunos']):\n",
    "    if aluno=='Guilherme':\n",
    "        print(str(ii) + ' '+ aluno + ' nota = 10.0') \n",
    "    else:\n",
    "        print(str(ii) + ' '+ aluno + ' nota = ' + str(dicionario['notas'][ii])) \n",
    "\n",
    "print(' ')\n",
    "\n",
    "for ii,aluno in enumerate(dicionario['alunos']):\n",
    "    if ii==2:\n",
    "        print(str(ii) + ' '+ aluno + ' nota = 10.0') \n",
    "    else:\n",
    "        print(str(ii) + ' '+ aluno + ' nota = ' + str(dicionario['notas'][ii])) "
   ]
  },
  {
   "cell_type": "code",
   "execution_count": 19,
   "id": "f58cd5b0-3aae-4679-957d-7c92b3895fbf",
   "metadata": {},
   "outputs": [
    {
     "name": "stdout",
     "output_type": "stream",
     "text": [
      "False\n",
      "True\n",
      "False\n",
      "True\n",
      "True\n",
      "True\n",
      "False\n",
      "<class 'bool'>\n"
     ]
    }
   ],
   "source": [
    "# Operações lógicas\n",
    "a = 1\n",
    "b = 3\n",
    "c = 1\n",
    "print(a==b) # Igual a - operação lógica\n",
    "print(a==c)\n",
    "print(a>b) # maior que \n",
    "print(a<b) # menor que \n",
    "print(a>=c) # maior igual que \n",
    "print(a!=b) # diferente de\n",
    "print(a!=c) # diferente de\n",
    "\n",
    "opTF = a!=c\n",
    "print(type(opTF))\n",
    "\n",
    "opT = True\n",
    "opF = False"
   ]
  },
  {
   "cell_type": "code",
   "execution_count": 20,
   "id": "110780b8-413a-4716-bf3e-1d5ac78f2d3c",
   "metadata": {},
   "outputs": [
    {
     "name": "stdout",
     "output_type": "stream",
     "text": [
      "0 Guilherme nota = 9.5\n",
      "1 Flavia nota = 6\n",
      "2 Lucas nota = 6\n"
     ]
    }
   ],
   "source": [
    "dicionario = {\n",
    "    'alunos':['Guilherme', 'Flavia', 'Lucas'],\n",
    "    'notas':[9.5, 6, 6]\n",
    "}\n",
    "\n",
    "# Treinando loop com condição\n",
    "for ii,aluno in enumerate(dicionario['alunos']):\n",
    "    if (aluno=='Guilherme') and (dicionario['notas'][ii]<=9):\n",
    "        print(str(ii) + ' '+ aluno + ' nota = 10.0') \n",
    "    else:\n",
    "        print(str(ii) + ' '+ aluno + ' nota = ' + str(dicionario['notas'][ii])) "
   ]
  },
  {
   "cell_type": "code",
   "execution_count": 21,
   "id": "8b0a022c-ee63-44fc-938a-43f74475c7a9",
   "metadata": {},
   "outputs": [
    {
     "name": "stdout",
     "output_type": "stream",
     "text": [
      "['Guilherme' 'Flavia' 'Lucas']\n",
      "<class 'numpy.ndarray'>\n",
      "\n",
      "[False False  True]\n",
      "(array([2], dtype=int64),)\n",
      "\n"
     ]
    },
    {
     "name": "stderr",
     "output_type": "stream",
     "text": [
      "C:\\Users\\anaju\\AppData\\Local\\Temp\\ipykernel_15540\\3449895344.py:15: DeprecationWarning: Conversion of an array with ndim > 0 to a scalar is deprecated, and will error in future. Ensure you extract a single element from your array before performing this operation. (Deprecated NumPy 1.25.)\n",
      "  dicionario['notas'][int(np.where(mat2)[0])] = 9.5\n"
     ]
    }
   ],
   "source": [
    "# Treinando numpy\n",
    "import numpy as np\n",
    "# Convertendo para numpy\n",
    "mat = np.array(dicionario['alunos'])\n",
    "print(mat)\n",
    "print(type(mat))\n",
    "\n",
    "print('')\n",
    "mat2 = np.array(mat=='Lucas')\n",
    "print(mat2)\n",
    "# Local da matriz com valor verdadeiro\n",
    "print(np.where(mat2))\n",
    "\n",
    "print('')\n",
    "dicionario['notas'][int(np.where(mat2)[0])] = 9.5"
   ]
  },
  {
   "cell_type": "code",
   "execution_count": 22,
   "id": "b8838860-5194-44f7-aa59-eebeb675c579",
   "metadata": {},
   "outputs": [
    {
     "name": "stdout",
     "output_type": "stream",
     "text": [
      "[0.69547249 0.69204622 0.96052921 0.51775717 0.28754441 0.1395795\n",
      " 0.81179084 0.74675856 0.28768503 0.22088248 0.90888399 0.24011579\n",
      " 0.05242081 0.36572474 0.70868219 0.56973697 0.40598181 0.2994935\n",
      " 0.02278071 0.4334984  0.13021937 0.0754811  0.88498835 0.68165975\n",
      " 0.85909416 0.76889559 0.35126791 0.33912586 0.4547157  0.46238833\n",
      " 0.92024836 0.60608054 0.19500853 0.55456864 0.07044316 0.11876255\n",
      " 0.17237674 0.58379073 0.23631622 0.65369495 0.8764279  0.48421801\n",
      " 0.43828891 0.94709022 0.63554449 0.68462354 0.84875415 0.9643112\n",
      " 0.34473433 0.59682606 0.42740777 0.49668281 0.04401663 0.59305739\n",
      " 0.58226419 0.92850889 0.122835   0.88966317 0.907311   0.53461852\n",
      " 0.82627181 0.34883232 0.40968903 0.73451076 0.41524394 0.76919608\n",
      " 0.59246207 0.55324621 0.33653872 0.85811626 0.62577627 0.54746306\n",
      " 0.59058184 0.69784364 0.689557   0.82996466 0.19383428 0.12410424\n",
      " 0.42243205 0.09183429 0.95552912 0.52211825 0.01084103 0.16146825\n",
      " 0.45472443 0.68905464 0.85761956 0.65595959 0.97930098 0.55726833\n",
      " 0.79025921 0.00987802 0.69436594 0.07525415 0.11906461 0.03082\n",
      " 0.0196505  0.65888395 0.25916488 0.49849266]\n",
      "[0.64074827 0.63811399 0.81949497 0.49493252 0.28359831 0.13912672\n",
      " 0.72552079 0.67926346 0.28373316 0.21909075 0.7888183  0.2378151\n",
      " 0.0523968  0.35762619 0.65083383 0.53941058 0.39492095 0.29503629\n",
      " 0.02277873 0.42004817 0.12985166 0.07540945 0.77390761 0.63008273\n",
      " 0.75725125 0.69534195 0.34408858 0.33266287 0.43920692 0.44608691\n",
      " 0.79575206 0.56965049 0.1937749  0.52657664 0.07038491 0.11848357\n",
      " 0.17152435 0.5511908  0.23412282 0.60812376 0.768458   0.46551641\n",
      " 0.42439073 0.81171949 0.59361578 0.63238143 0.75045758 0.82165651\n",
      " 0.33794665 0.56202007 0.41451316 0.4765118  0.04400242 0.55889893\n",
      " 0.54991644 0.80072762 0.12252633 0.7768597  0.78785053 0.50951283\n",
      " 0.73541018 0.34180068 0.39832411 0.67022414 0.40341315 0.69555787\n",
      " 0.55840517 0.52545194 0.33022196 0.7566122  0.58572662 0.52052274\n",
      " 0.5568444  0.64256691 0.63619546 0.73790752 0.19262277 0.12378591\n",
      " 0.40997993 0.09170527 0.81661925 0.49871728 0.01084081 0.16076753\n",
      " 0.43921476 0.63580779 0.75628733 0.60991996 0.8301078  0.5288698\n",
      " 0.71053569 0.00987786 0.63989832 0.07518314 0.1187835  0.03081512\n",
      " 0.01964923 0.6122348  0.25627341 0.47810218]\n"
     ]
    }
   ],
   "source": [
    "# Matriz numpy\n",
    "\n",
    "vec = np.random.rand(100)\n",
    "print(vec)\n",
    "vec2 = np.sin(vec)\n",
    "print(vec2)"
   ]
  },
  {
   "cell_type": "code",
   "execution_count": 23,
   "id": "adce6e8d-a412-4948-a61b-a6fb2a5e7998",
   "metadata": {},
   "outputs": [
    {
     "name": "stdout",
     "output_type": "stream",
     "text": [
      "(100,)\n",
      "2024-01-01 00:00:00\n",
      "2024-01-02 00:00:00\n",
      "2024-01-03 00:00:00\n",
      "2024-01-04 00:00:00\n",
      "2024-01-05 00:00:00\n",
      "2024-01-06 00:00:00\n",
      "2024-01-07 00:00:00\n",
      "2024-01-08 00:00:00\n",
      "2024-01-09 00:00:00\n",
      "2024-01-10 00:00:00\n",
      "2024-01-11 00:00:00\n",
      "2024-01-12 00:00:00\n",
      "2024-01-13 00:00:00\n",
      "2024-01-14 00:00:00\n",
      "2024-01-15 00:00:00\n",
      "2024-01-16 00:00:00\n",
      "2024-01-17 00:00:00\n",
      "2024-01-18 00:00:00\n",
      "2024-01-19 00:00:00\n",
      "2024-01-20 00:00:00\n",
      "2024-01-21 00:00:00\n",
      "2024-01-22 00:00:00\n",
      "2024-01-23 00:00:00\n",
      "2024-01-24 00:00:00\n",
      "2024-01-25 00:00:00\n",
      "2024-01-26 00:00:00\n",
      "2024-01-27 00:00:00\n",
      "2024-01-28 00:00:00\n",
      "2024-01-29 00:00:00\n",
      "2024-01-30 00:00:00\n",
      "2024-01-31 00:00:00\n",
      "2024-02-01 00:00:00\n",
      "2024-02-02 00:00:00\n",
      "2024-02-03 00:00:00\n",
      "2024-02-04 00:00:00\n",
      "2024-02-05 00:00:00\n",
      "2024-02-06 00:00:00\n",
      "2024-02-07 00:00:00\n",
      "2024-02-08 00:00:00\n",
      "2024-02-09 00:00:00\n",
      "2024-02-10 00:00:00\n",
      "2024-02-11 00:00:00\n",
      "2024-02-12 00:00:00\n",
      "2024-02-13 00:00:00\n",
      "2024-02-14 00:00:00\n",
      "2024-02-15 00:00:00\n",
      "2024-02-16 00:00:00\n",
      "2024-02-17 00:00:00\n",
      "2024-02-18 00:00:00\n",
      "2024-02-19 00:00:00\n",
      "2024-02-20 00:00:00\n",
      "2024-02-21 00:00:00\n",
      "2024-02-22 00:00:00\n",
      "2024-02-23 00:00:00\n",
      "2024-02-24 00:00:00\n",
      "2024-02-25 00:00:00\n",
      "2024-02-26 00:00:00\n",
      "2024-02-27 00:00:00\n",
      "2024-02-28 00:00:00\n",
      "2024-02-29 00:00:00\n",
      "2024-03-01 00:00:00\n",
      "2024-03-02 00:00:00\n",
      "2024-03-03 00:00:00\n",
      "2024-03-04 00:00:00\n",
      "2024-03-05 00:00:00\n",
      "2024-03-06 00:00:00\n",
      "2024-03-07 00:00:00\n",
      "2024-03-08 00:00:00\n",
      "2024-03-09 00:00:00\n",
      "2024-03-10 00:00:00\n",
      "2024-03-11 00:00:00\n",
      "2024-03-12 00:00:00\n",
      "2024-03-13 00:00:00\n",
      "2024-03-14 00:00:00\n",
      "2024-03-15 00:00:00\n",
      "2024-03-16 00:00:00\n",
      "2024-03-17 00:00:00\n",
      "2024-03-18 00:00:00\n",
      "2024-03-19 00:00:00\n",
      "2024-03-20 00:00:00\n",
      "2024-03-21 00:00:00\n",
      "2024-03-22 00:00:00\n",
      "2024-03-23 00:00:00\n",
      "2024-03-24 00:00:00\n",
      "2024-03-25 00:00:00\n",
      "2024-03-26 00:00:00\n",
      "2024-03-27 00:00:00\n",
      "2024-03-28 00:00:00\n",
      "2024-03-29 00:00:00\n",
      "2024-03-30 00:00:00\n",
      "2024-03-31 00:00:00\n",
      "2024-04-01 00:00:00\n",
      "2024-04-02 00:00:00\n",
      "2024-04-03 00:00:00\n",
      "2024-04-04 00:00:00\n",
      "2024-04-05 00:00:00\n",
      "2024-04-06 00:00:00\n",
      "2024-04-07 00:00:00\n",
      "2024-04-08 00:00:00\n",
      "2024-04-09 00:00:00\n"
     ]
    }
   ],
   "source": [
    "# Datetime \n",
    "\n",
    "from datetime import datetime, timedelta\n",
    "\n",
    "# Data inicial\n",
    "start_date = datetime(2024, 1, 1)  # ano, mês, dia\n",
    "\n",
    "# Lista para armazenar as datas\n",
    "date_vector = []\n",
    "\n",
    "# Gerar datas para uma semana\n",
    "print(vec.shape)\n",
    "for i in range(0,vec.shape[0]):\n",
    "    date_vector.append(start_date + timedelta(days=i))\n",
    "\n",
    "# Exibir as datas\n",
    "for date in date_vector:\n",
    "    print(date)"
   ]
  },
  {
   "cell_type": "code",
   "execution_count": 24,
   "id": "a602c43f-14ab-4b71-9ada-bd1fec981c45",
   "metadata": {},
   "outputs": [
    {
     "name": "stdout",
     "output_type": "stream",
     "text": [
      "        datas       vec      vec2\n",
      "0  2024-01-01  0.695472  0.640748\n",
      "1  2024-01-02  0.692046  0.638114\n",
      "2  2024-01-03  0.960529  0.819495\n",
      "3  2024-01-04  0.517757  0.494933\n",
      "4  2024-01-05  0.287544  0.283598\n",
      "..        ...       ...       ...\n",
      "95 2024-04-05  0.030820  0.030815\n",
      "96 2024-04-06  0.019650  0.019649\n",
      "97 2024-04-07  0.658884  0.612235\n",
      "98 2024-04-08  0.259165  0.256273\n",
      "99 2024-04-09  0.498493  0.478102\n",
      "\n",
      "[100 rows x 3 columns]\n"
     ]
    }
   ],
   "source": [
    "# Criando dataframe e salvando\n",
    "import pandas as pd\n",
    "\n",
    "df = pd.DataFrame()\n",
    "df['datas'] = date_vector\n",
    "df['vec'] = vec\n",
    "df['vec2'] = vec2\n",
    "print(df)\n",
    "\n",
    "# Salvando em uma pasta\n",
    "pasta = r\"C:\\Users\\anaju\\OneDrive\\Documentos\\GitHub\\Controle_AnaPietroski\\tabelas\"\n",
    "df.to_csv(pasta+'/planilha.csv')"
   ]
  },
  {
   "cell_type": "code",
   "execution_count": null,
   "id": "a0818fe7-b594-48b7-ae8d-23c138046d43",
   "metadata": {},
   "outputs": [],
   "source": []
  }
 ],
 "metadata": {
  "kernelspec": {
   "display_name": "Python 3 (ipykernel)",
   "language": "python",
   "name": "python3"
  },
  "language_info": {
   "codemirror_mode": {
    "name": "ipython",
    "version": 3
   },
   "file_extension": ".py",
   "mimetype": "text/x-python",
   "name": "python",
   "nbconvert_exporter": "python",
   "pygments_lexer": "ipython3",
   "version": "3.11.8"
  }
 },
 "nbformat": 4,
 "nbformat_minor": 5
}
