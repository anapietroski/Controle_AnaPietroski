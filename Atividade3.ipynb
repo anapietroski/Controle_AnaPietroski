{
 "cells": [
  {
   "cell_type": "markdown",
   "id": "f59f03c5-0d7b-4951-b9c1-5c936b76db42",
   "metadata": {},
   "source": [
    "# MODELAGEM DE DISPERSÃO\n",
    "\n",
    "Neste notebook vamos implementar um modelo de dispersão gaussiano."
   ]
  },
  {
   "cell_type": "code",
   "execution_count": 2,
   "id": "e806c168-3966-44f9-9f78-9009ee7c91c6",
   "metadata": {},
   "outputs": [],
   "source": [
    "# Criando uma função do modelo gaussiano\n",
    "import numpy as np\n",
    "def modeloGaussiano(qs,sigmaY,sigmaZ,u,y,z,H):\n",
    "    termo1 = qs/(2*np.pi*sigmaY*sigmaZ*u)\n",
    "    termo2 = np.exp((-y**2)/(2*sigmaY**2))\n",
    "    termo3 = np.exp((-(z-H)**2)/(2*sigmaZ**2)) + np.exp((-(z+H)**2)/(2*sigmaZ**2))\n",
    "    conc = termo1*termo2*termo3\n",
    "    conc = conc*10**6\n",
    "    return conc"
   ]
  },
  {
   "cell_type": "code",
   "execution_count": 3,
   "id": "b30127ef-fa1c-46b4-ae69-54361df90a56",
   "metadata": {},
   "outputs": [
    {
     "name": "stdout",
     "output_type": "stream",
     "text": [
      "A concentração estimada é = 86.2052564132534 [$\\mu$]g/m³\n"
     ]
    }
   ],
   "source": [
    "# Utilizando a função do modelo gaussiano\n",
    "qs = 100 # g/s\n",
    "sigmaY = 10 # m\n",
    "sigmaZ = 15 # m\n",
    "u = 10 # m/s\n",
    "y = 0 # estimando na direção do vento\n",
    "z = 1.5 # altura do nariz\n",
    "H = 50 # m\n",
    "conc = modeloGaussiano(qs,sigmaY,sigmaZ,u,y,z,H)\n",
    "\n",
    "print(\"A concentração estimada é = \" +str(conc) + ' [$\\mu$]g/m³')"
   ]
  },
  {
   "cell_type": "code",
   "execution_count": null,
   "id": "d98bc7ec-62c6-4b60-8948-e123c18166db",
   "metadata": {},
   "outputs": [],
   "source": []
  }
 ],
 "metadata": {
  "kernelspec": {
   "display_name": "Python 3 (ipykernel)",
   "language": "python",
   "name": "python3"
  },
  "language_info": {
   "codemirror_mode": {
    "name": "ipython",
    "version": 3
   },
   "file_extension": ".py",
   "mimetype": "text/x-python",
   "name": "python",
   "nbconvert_exporter": "python",
   "pygments_lexer": "ipython3",
   "version": "3.11.8"
  }
 },
 "nbformat": 4,
 "nbformat_minor": 5
}
