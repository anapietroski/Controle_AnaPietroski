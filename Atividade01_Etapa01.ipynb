{
 "cells": [
  {
   "cell_type": "markdown",
   "id": "2cc99e7b-b7af-4706-b31b-92a9cae9d013",
   "metadata": {},
   "source": [
    "# Aula 02 - Python\n",
    "Atividade 01 - Praticando com Python\\\n",
    "Desenvolvedor: Ana Julia Pietroski Anderson\\\n",
    "Matrícula: 20206355\n"
   ]
  },
  {
   "cell_type": "markdown",
   "id": "18674642-ba87-4c05-8259-bea5daf390ad",
   "metadata": {},
   "source": [
    "## Dados numéricos\n"
   ]
  },
  {
   "cell_type": "code",
   "execution_count": 8,
   "id": "bc4f7e14-1c3b-484c-b79a-02b2a11de4d9",
   "metadata": {},
   "outputs": [
    {
     "name": "stdout",
     "output_type": "stream",
     "text": [
      "Valor de a = 1\n"
     ]
    },
    {
     "data": {
      "text/plain": [
       "int"
      ]
     },
     "execution_count": 8,
     "metadata": {},
     "output_type": "execute_result"
    }
   ],
   "source": [
    "# Variável inteira\n",
    "a = 1\n",
    "print('Valor de a = '+str(a))\n",
    "type(a)"
   ]
  },
  {
   "cell_type": "code",
   "execution_count": 9,
   "id": "8c0d69ae-0118-4e64-8863-004b210d6bd3",
   "metadata": {},
   "outputs": [
    {
     "name": "stdout",
     "output_type": "stream",
     "text": [
      "1.0\n"
     ]
    },
    {
     "data": {
      "text/plain": [
       "float"
      ]
     },
     "execution_count": 9,
     "metadata": {},
     "output_type": "execute_result"
    }
   ],
   "source": [
    "# Variável dupla precisão\n",
    "b = 1.0\n",
    "print(b)\n",
    "type(b)"
   ]
  },
  {
   "cell_type": "code",
   "execution_count": 10,
   "id": "d5d8d129-119e-4adb-aabe-7d2bf7cff5f5",
   "metadata": {},
   "outputs": [
    {
     "name": "stdout",
     "output_type": "stream",
     "text": [
      "1\n"
     ]
    },
    {
     "data": {
      "text/plain": [
       "int"
      ]
     },
     "execution_count": 10,
     "metadata": {},
     "output_type": "execute_result"
    }
   ],
   "source": [
    "# Converter float para int\n",
    "c = int(b)\n",
    "print(c)\n",
    "type(c)"
   ]
  },
  {
   "cell_type": "code",
   "execution_count": 11,
   "id": "d182d653-9cfb-42a9-a2c7-b98624ccf031",
   "metadata": {},
   "outputs": [
    {
     "name": "stdout",
     "output_type": "stream",
     "text": [
      "nan\n"
     ]
    },
    {
     "data": {
      "text/plain": [
       "float"
      ]
     },
     "execution_count": 11,
     "metadata": {},
     "output_type": "execute_result"
    }
   ],
   "source": [
    "# Delacrando nan\n",
    "import numpy as np\n",
    "d = np.nan\n",
    "print(d)\n",
    "type(d)"
   ]
  },
  {
   "cell_type": "code",
   "execution_count": 12,
   "id": "92227015-5f5e-4d85-879e-325eca8d9b88",
   "metadata": {},
   "outputs": [
    {
     "name": "stdout",
     "output_type": "stream",
     "text": [
      "nan\n",
      "nan\n",
      "1.0\n"
     ]
    }
   ],
   "source": [
    "# Operação com NaN\n",
    "e = d*1\n",
    "print(e)\n",
    "e = d+1\n",
    "print(e)\n",
    "e = np.nansum([d,1])\n",
    "print(e)"
   ]
  },
  {
   "cell_type": "markdown",
   "id": "abc32c46-8fcb-4d93-9f4b-8bb06b2b0294",
   "metadata": {},
   "source": [
    "## Dados de texto"
   ]
  },
  {
   "cell_type": "code",
   "execution_count": 13,
   "id": "f54ecce1-c855-4fe2-950d-218f5b423d81",
   "metadata": {},
   "outputs": [
    {
     "name": "stdout",
     "output_type": "stream",
     "text": [
      "Fábio\n",
      "Gabriel\n",
      "FábioGabriel\n",
      "Fábio Gabriel\n"
     ]
    }
   ],
   "source": [
    "# Declaração de variável texto\n",
    "f = 'Fábio'\n",
    "g = \"Gabriel\"\n",
    "print(f)\n",
    "print(g)\n",
    "print(f+g)\n",
    "print(f+' '+g)"
   ]
  },
  {
   "cell_type": "markdown",
   "id": "02b6f657-32f0-4765-8926-973c5d2bac90",
   "metadata": {},
   "source": [
    "## Dados tipo bool - lógica"
   ]
  },
  {
   "cell_type": "code",
   "execution_count": 14,
   "id": "11350d37-84ec-44de-9635-370075742afb",
   "metadata": {},
   "outputs": [
    {
     "data": {
      "text/plain": [
       "True"
      ]
     },
     "execution_count": 14,
     "metadata": {},
     "output_type": "execute_result"
    }
   ],
   "source": [
    "a == 1"
   ]
  },
  {
   "cell_type": "code",
   "execution_count": 15,
   "id": "9d7d8a67-b3de-43aa-a78c-69265aec3634",
   "metadata": {},
   "outputs": [
    {
     "name": "stdout",
     "output_type": "stream",
     "text": [
      "True\n"
     ]
    },
    {
     "data": {
      "text/plain": [
       "bool"
      ]
     },
     "execution_count": 15,
     "metadata": {},
     "output_type": "execute_result"
    }
   ],
   "source": [
    "h = (a==1)\n",
    "print(h)\n",
    "type(h)"
   ]
  },
  {
   "cell_type": "code",
   "execution_count": 17,
   "id": "bd4358c3-e176-4ba1-bdf5-1ab813a4de89",
   "metadata": {},
   "outputs": [
    {
     "name": "stdout",
     "output_type": "stream",
     "text": [
      "False\n"
     ]
    },
    {
     "data": {
      "text/plain": [
       "bool"
      ]
     },
     "execution_count": 17,
     "metadata": {},
     "output_type": "execute_result"
    }
   ],
   "source": [
    "h = (a==2)\n",
    "print(h)\n",
    "type(h)"
   ]
  },
  {
   "cell_type": "code",
   "execution_count": 18,
   "id": "060fa8a9-e66b-41f2-8c17-8794bd04bde4",
   "metadata": {},
   "outputs": [
    {
     "data": {
      "text/plain": [
       "bool"
      ]
     },
     "execution_count": 18,
     "metadata": {},
     "output_type": "execute_result"
    }
   ],
   "source": [
    "i = True\n",
    "type(i)"
   ]
  },
  {
   "cell_type": "code",
   "execution_count": 19,
   "id": "d7c2cb6e-1417-4eca-924c-81dab1bb909b",
   "metadata": {},
   "outputs": [
    {
     "data": {
      "text/plain": [
       "str"
      ]
     },
     "execution_count": 19,
     "metadata": {},
     "output_type": "execute_result"
    }
   ],
   "source": [
    "ii = 'True'\n",
    "type(ii)"
   ]
  },
  {
   "cell_type": "markdown",
   "id": "d39bd74c-7cae-49e2-9dde-e6eb20f2399f",
   "metadata": {},
   "source": [
    "### Operação de comparação"
   ]
  },
  {
   "cell_type": "code",
   "execution_count": 20,
   "id": "924f80f2-3131-4008-b384-1c9d10b6dd69",
   "metadata": {},
   "outputs": [
    {
     "data": {
      "text/plain": [
       "True"
      ]
     },
     "execution_count": 20,
     "metadata": {},
     "output_type": "execute_result"
    }
   ],
   "source": [
    "# Operação ==\n",
    "a==b"
   ]
  },
  {
   "cell_type": "code",
   "execution_count": 21,
   "id": "85a6709f-0c56-46ce-b414-2c892ecfd5bf",
   "metadata": {},
   "outputs": [
    {
     "data": {
      "text/plain": [
       "False"
      ]
     },
     "execution_count": 21,
     "metadata": {},
     "output_type": "execute_result"
    }
   ],
   "source": [
    "# Operação ><\n",
    "a>b"
   ]
  },
  {
   "cell_type": "code",
   "execution_count": 22,
   "id": "7c835714-f938-46be-af52-ae9b478318a1",
   "metadata": {},
   "outputs": [
    {
     "data": {
      "text/plain": [
       "False"
      ]
     },
     "execution_count": 22,
     "metadata": {},
     "output_type": "execute_result"
    }
   ],
   "source": [
    "# Operação !=\n",
    "a!=b"
   ]
  },
  {
   "cell_type": "code",
   "execution_count": 23,
   "id": "34b1ac6a-0e28-4bc2-849a-9d860b85406f",
   "metadata": {},
   "outputs": [
    {
     "data": {
      "text/plain": [
       "True"
      ]
     },
     "execution_count": 23,
     "metadata": {},
     "output_type": "execute_result"
    }
   ],
   "source": [
    "# Operação >= ou <=\n",
    "a>=b"
   ]
  },
  {
   "cell_type": "markdown",
   "id": "61a0c4ad-549a-434e-978b-3b33aaa93ba0",
   "metadata": {},
   "source": [
    "## Operações matemáticas"
   ]
  },
  {
   "cell_type": "code",
   "execution_count": 24,
   "id": "e847e387-411e-4627-a21f-03b74ef68943",
   "metadata": {},
   "outputs": [
    {
     "data": {
      "text/plain": [
       "2.0"
      ]
     },
     "execution_count": 24,
     "metadata": {},
     "output_type": "execute_result"
    }
   ],
   "source": [
    "# Soma\n",
    "a+b"
   ]
  },
  {
   "cell_type": "code",
   "execution_count": 25,
   "id": "3fb7d823-1b49-49c5-b360-6c9f7b9fb6a8",
   "metadata": {},
   "outputs": [
    {
     "name": "stdout",
     "output_type": "stream",
     "text": [
      "2.0\n"
     ]
    }
   ],
   "source": [
    "# Soma e atribui valor\n",
    "ab = a+b\n",
    "print(ab)"
   ]
  },
  {
   "cell_type": "code",
   "execution_count": 26,
   "id": "df742ca6-f7d0-4a3e-a163-51e0e6c87c57",
   "metadata": {},
   "outputs": [
    {
     "name": "stdout",
     "output_type": "stream",
     "text": [
      "Não use l como nome de variável\n",
      "1.0\n"
     ]
    }
   ],
   "source": [
    "# Multiplicação \n",
    "l = a*b # Não use l como variável\n",
    "print(\"Não use l como nome de variável\")\n",
    "j = a*b\n",
    "print(j)"
   ]
  },
  {
   "cell_type": "code",
   "execution_count": 27,
   "id": "f28bc01f-c621-4a00-ab6d-5881d6b0f827",
   "metadata": {},
   "outputs": [
    {
     "data": {
      "text/plain": [
       "1.0"
      ]
     },
     "execution_count": 27,
     "metadata": {},
     "output_type": "execute_result"
    }
   ],
   "source": [
    "# Divisão\n",
    "a/b"
   ]
  },
  {
   "cell_type": "code",
   "execution_count": 28,
   "id": "072907f5-ef76-4cd2-a7cb-e1456ef45576",
   "metadata": {},
   "outputs": [
    {
     "data": {
      "text/plain": [
       "25"
      ]
     },
     "execution_count": 28,
     "metadata": {},
     "output_type": "execute_result"
    }
   ],
   "source": [
    "# Potencia\n",
    "5**2"
   ]
  },
  {
   "cell_type": "code",
   "execution_count": 29,
   "id": "d7569498-5e44-4d0a-bfe2-feb4a3fd1b03",
   "metadata": {},
   "outputs": [
    {
     "data": {
      "text/plain": [
       "22026.465794806718"
      ]
     },
     "execution_count": 29,
     "metadata": {},
     "output_type": "execute_result"
    }
   ],
   "source": [
    "# Operações matemáticas com a biblioteca math\n",
    "import math\n",
    "\n",
    "math.exp(10)"
   ]
  },
  {
   "cell_type": "code",
   "execution_count": 31,
   "id": "a2cd3f14-8940-497e-9719-9f663e724591",
   "metadata": {},
   "outputs": [
    {
     "data": {
      "text/plain": [
       "1.0"
      ]
     },
     "execution_count": 31,
     "metadata": {},
     "output_type": "execute_result"
    }
   ],
   "source": [
    "math.exp(0)"
   ]
  },
  {
   "cell_type": "code",
   "execution_count": 32,
   "id": "56048008-0c41-49c4-896a-c6442c139f4e",
   "metadata": {},
   "outputs": [
    {
     "data": {
      "text/plain": [
       "2.718281828459045"
      ]
     },
     "execution_count": 32,
     "metadata": {},
     "output_type": "execute_result"
    }
   ],
   "source": [
    "math.exp(a)"
   ]
  },
  {
   "cell_type": "code",
   "execution_count": 33,
   "id": "7478883d-5959-4ef2-b950-6ea600badb8f",
   "metadata": {},
   "outputs": [
    {
     "data": {
      "text/plain": [
       "4.5399929762484854e-05"
      ]
     },
     "execution_count": 33,
     "metadata": {},
     "output_type": "execute_result"
    }
   ],
   "source": [
    "math.exp(-10)"
   ]
  },
  {
   "cell_type": "code",
   "execution_count": 34,
   "id": "1e1251ae-283c-46e5-9ae1-95276305d472",
   "metadata": {},
   "outputs": [
    {
     "data": {
      "text/plain": [
       "0.0"
      ]
     },
     "execution_count": 34,
     "metadata": {},
     "output_type": "execute_result"
    }
   ],
   "source": [
    "import math as mt \n",
    "mt.log(c)"
   ]
  },
  {
   "cell_type": "code",
   "execution_count": 35,
   "id": "53e87af3-3eb0-4241-974e-3826d6fb47e8",
   "metadata": {},
   "outputs": [
    {
     "data": {
      "text/plain": [
       "2.0"
      ]
     },
     "execution_count": 35,
     "metadata": {},
     "output_type": "execute_result"
    }
   ],
   "source": [
    "mt.log10(100)"
   ]
  },
  {
   "cell_type": "markdown",
   "id": "0d29d5d2-c8ee-4803-ae5b-7a352ed535a7",
   "metadata": {},
   "source": [
    "## Listas"
   ]
  },
  {
   "cell_type": "code",
   "execution_count": 36,
   "id": "bbe20550-5415-4c7f-8810-587b3fc04c0f",
   "metadata": {},
   "outputs": [
    {
     "name": "stdout",
     "output_type": "stream",
     "text": [
      "[1, 2, 3]\n"
     ]
    }
   ],
   "source": [
    "myFirstList = [1,2,3,]\n",
    "print(myFirstList)"
   ]
  },
  {
   "cell_type": "code",
   "execution_count": 37,
   "id": "b3f80084-8935-423f-b6cf-c37fde88d96d",
   "metadata": {},
   "outputs": [
    {
     "name": "stdout",
     "output_type": "stream",
     "text": [
      "1\n",
      "3\n"
     ]
    }
   ],
   "source": [
    "# Acessando valores da lista pelo index\n",
    "print(myFirstList[0])\n",
    "print(myFirstList[2])"
   ]
  },
  {
   "cell_type": "code",
   "execution_count": 38,
   "id": "aeff903d-7903-4a03-8d7b-508f88058b43",
   "metadata": {},
   "outputs": [
    {
     "data": {
      "text/plain": [
       "False"
      ]
     },
     "execution_count": 38,
     "metadata": {},
     "output_type": "execute_result"
    }
   ],
   "source": [
    "myFirstList==a"
   ]
  },
  {
   "cell_type": "code",
   "execution_count": 39,
   "id": "cc8addfa-d9c9-4184-b03b-530d401ceaec",
   "metadata": {},
   "outputs": [
    {
     "data": {
      "text/plain": [
       "True"
      ]
     },
     "execution_count": 39,
     "metadata": {},
     "output_type": "execute_result"
    }
   ],
   "source": [
    "myFirstList[0]==a"
   ]
  },
  {
   "cell_type": "code",
   "execution_count": 40,
   "id": "7ebef670-49cf-446b-8077-1198cc48ce0e",
   "metadata": {},
   "outputs": [
    {
     "name": "stdout",
     "output_type": "stream",
     "text": [
      "[1, 1, 'c']\n"
     ]
    }
   ],
   "source": [
    "mySecList = [1,a,'c']\n",
    "print(mySecList)"
   ]
  },
  {
   "cell_type": "code",
   "execution_count": 42,
   "id": "59e40336-7fab-4db6-9596-7d4ad5b25215",
   "metadata": {},
   "outputs": [
    {
     "data": {
      "text/plain": [
       "list"
      ]
     },
     "execution_count": 42,
     "metadata": {},
     "output_type": "execute_result"
    }
   ],
   "source": [
    "type(mySecList)"
   ]
  },
  {
   "cell_type": "code",
   "execution_count": 43,
   "id": "6da34a0e-4664-457e-88f6-ce83bf9f89e2",
   "metadata": {},
   "outputs": [
    {
     "data": {
      "text/plain": [
       "str"
      ]
     },
     "execution_count": 43,
     "metadata": {},
     "output_type": "execute_result"
    }
   ],
   "source": [
    "type(mySecList[2])"
   ]
  },
  {
   "cell_type": "code",
   "execution_count": 44,
   "id": "be3a19b1-9150-4283-b71f-d334d2251f71",
   "metadata": {},
   "outputs": [
    {
     "data": {
      "text/plain": [
       "int"
      ]
     },
     "execution_count": 44,
     "metadata": {},
     "output_type": "execute_result"
    }
   ],
   "source": [
    "type(mySecList[1])"
   ]
  },
  {
   "cell_type": "markdown",
   "id": "b8d543e4-1991-4c38-9c49-da32a667b66a",
   "metadata": {},
   "source": [
    "## Caminhos = path"
   ]
  },
  {
   "cell_type": "code",
   "execution_count": 45,
   "id": "8d619e87-43ea-472a-87d4-849a1de73b4f",
   "metadata": {},
   "outputs": [
    {
     "name": "stdout",
     "output_type": "stream",
     "text": [
      "C:\\Users\\anaju\\OneDrive\\Documentos\\GitHub\\Controle_AnaPietroski\n"
     ]
    }
   ],
   "source": [
    "path = r\"C:\\Users\\anaju\\OneDrive\\Documentos\\GitHub\\Controle_AnaPietroski\"\n",
    "print(path)"
   ]
  },
  {
   "cell_type": "code",
   "execution_count": 52,
   "id": "17faeda3-a18c-4ceb-a801-a703bc9ba5ef",
   "metadata": {},
   "outputs": [
    {
     "name": "stdout",
     "output_type": "stream",
     "text": [
      "C:/Users/anaju/OneDrive/Documentos/GitHub/Controle_AnaPietroski\n"
     ]
    }
   ],
   "source": [
    "path = \"C:/Users/anaju/OneDrive/Documentos/GitHub/Controle_AnaPietroski\"\n",
    "print(path)"
   ]
  },
  {
   "cell_type": "code",
   "execution_count": 56,
   "id": "7f81f767-687d-417a-b546-3d4830875cdc",
   "metadata": {},
   "outputs": [
    {
     "data": {
      "text/plain": [
       "['.git',\n",
       " '.gitignore',\n",
       " 'Aula01.ipynb',\n",
       " 'inputs',\n",
       " 'README.md',\n",
       " 'scripts',\n",
       " 'venv']"
      ]
     },
     "execution_count": 56,
     "metadata": {},
     "output_type": "execute_result"
    }
   ],
   "source": [
    "import os\n",
    "# Listar arquivos na pasta\n",
    "os.listdir(path)"
   ]
  },
  {
   "cell_type": "code",
   "execution_count": 57,
   "id": "e46b94df-5e65-4eac-8618-7e4af1b0043c",
   "metadata": {},
   "outputs": [
    {
     "data": {
      "text/plain": [
       "'.git'"
      ]
     },
     "execution_count": 57,
     "metadata": {},
     "output_type": "execute_result"
    }
   ],
   "source": [
    "# Selecionar priemrio arquivo listado\n",
    "os.listdir(path)[0]"
   ]
  },
  {
   "cell_type": "code",
   "execution_count": 58,
   "id": "744e0cb6-6824-4c2e-8ba5-d0249689aba8",
   "metadata": {},
   "outputs": [
    {
     "data": {
      "text/plain": [
       "'C:/Users/anaju/OneDrive/Documentos/GitHub/Controle_AnaPietroski/.git'"
      ]
     },
     "execution_count": 58,
     "metadata": {},
     "output_type": "execute_result"
    }
   ],
   "source": [
    "# Concatenando caminhos\n",
    "path+\"/\"+os.listdir(path)[0]"
   ]
  },
  {
   "cell_type": "code",
   "execution_count": 60,
   "id": "76af51c6-c211-4c69-9fbd-cb3935916f5b",
   "metadata": {},
   "outputs": [
    {
     "data": {
      "text/plain": [
       "['COMMIT_EDITMSG',\n",
       " 'config',\n",
       " 'description',\n",
       " 'FETCH_HEAD',\n",
       " 'HEAD',\n",
       " 'hooks',\n",
       " 'index',\n",
       " 'info',\n",
       " 'logs',\n",
       " 'objects',\n",
       " 'packed-refs',\n",
       " 'refs']"
      ]
     },
     "execution_count": 60,
     "metadata": {},
     "output_type": "execute_result"
    }
   ],
   "source": [
    "# Listando caminho concatenado\n",
    "os.listdir(path+\"/\"+os.listdir(path)[0])"
   ]
  },
  {
   "cell_type": "code",
   "execution_count": 62,
   "id": "1b2a1233-a835-4246-aca6-35e12e5c4f4c",
   "metadata": {},
   "outputs": [
    {
     "data": {
      "text/plain": [
       "'C:\\\\Users\\\\anaju\\\\OneDrive\\\\Documentos\\\\GitHub\\\\Controle_AnaPietroski\\\\venv\\\\Scripts'"
      ]
     },
     "execution_count": 62,
     "metadata": {},
     "output_type": "execute_result"
    }
   ],
   "source": [
    "# Diretório que estou trabalhando \n",
    "os.getcwd()"
   ]
  },
  {
   "cell_type": "code",
   "execution_count": 63,
   "id": "fd1f99b4-ef85-49cc-9231-ba6daebf7e57",
   "metadata": {},
   "outputs": [],
   "source": [
    "# Mudo de diretório para o caminho\n",
    "os.chdir('C:\\\\Users\\\\anaju\\\\OneDrive\\\\Documentos\\\\')"
   ]
  },
  {
   "cell_type": "code",
   "execution_count": 64,
   "id": "b0d576fd-1307-4ac9-9ede-6026e4518e64",
   "metadata": {},
   "outputs": [
    {
     "data": {
      "text/plain": [
       "'C:\\\\Users\\\\anaju\\\\OneDrive\\\\Documentos'"
      ]
     },
     "execution_count": 64,
     "metadata": {},
     "output_type": "execute_result"
    }
   ],
   "source": [
    "os.getcwd()"
   ]
  },
  {
   "cell_type": "code",
   "execution_count": 84,
   "id": "0858f066-d50f-4a6b-b311-0d239361a477",
   "metadata": {},
   "outputs": [
    {
     "name": "stdout",
     "output_type": "stream",
     "text": [
      "diretório já existe\n"
     ]
    }
   ],
   "source": [
    "# Criando diretório\n",
    "new_path = os.getcwd()+'/test'\n",
    "\n",
    "if os.path.isdir(new_path):\n",
    "    print('diretório já existe')\n",
    "else:\n",
    "    print('Criando diretório '+new_path)\n",
    "    os.mkdir(new_path)"
   ]
  },
  {
   "cell_type": "code",
   "execution_count": 85,
   "id": "7e7afafa-b4a7-4c96-b3bd-c49a1c6cb061",
   "metadata": {},
   "outputs": [
    {
     "name": "stdout",
     "output_type": "stream",
     "text": [
      "diretório já existe\n"
     ]
    }
   ],
   "source": [
    "# Criando diretório\n",
    "new_path = os.getcwd()+'/test2'\n",
    "\n",
    "if os.path.isdir(new_path):\n",
    "    print('diretório já existe')\n",
    "    # Criando um arquivo de texto\n",
    "    with open(new_path+\"/copy.txt\", \"w\") as file:\n",
    "        file.write(\"Your text goes here\")\n",
    "else:\n",
    "    print('Criando diretório '+new_path)\n",
    "    os.mkdir(new_path)\n",
    "    with open(new_path+\"/copy.txt\", \"w\") as file:\n",
    "        file.write(\"Your text goes here\")"
   ]
  },
  {
   "cell_type": "markdown",
   "id": "936bf472-64d5-44d4-9688-bf9da9d120cd",
   "metadata": {},
   "source": [
    "## Numpy arrays e Pandas DataFrames"
   ]
  },
  {
   "cell_type": "code",
   "execution_count": 94,
   "id": "ebe79fb2-9340-49b9-9afd-8e1239613f45",
   "metadata": {},
   "outputs": [
    {
     "data": {
      "text/plain": [
       "numpy.ndarray"
      ]
     },
     "execution_count": 94,
     "metadata": {},
     "output_type": "execute_result"
    }
   ],
   "source": [
    "import numpy as np\n",
    "# Criando uma variável numpy\n",
    "n = np.array(0)\n",
    "type(n)"
   ]
  },
  {
   "cell_type": "code",
   "execution_count": 95,
   "id": "2baf911a-daab-4f00-8a04-0f3a2533b38c",
   "metadata": {},
   "outputs": [
    {
     "name": "stdout",
     "output_type": "stream",
     "text": [
      "[ 1  2  3 10 20 55]\n"
     ]
    }
   ],
   "source": [
    "# Criando uma variável numpy a partir de uma lista\n",
    "myThirdList=[1,2,3,10,20,55]\n",
    "n = np.array(myThirdList)\n",
    "print(n)"
   ]
  },
  {
   "cell_type": "code",
   "execution_count": 96,
   "id": "7862f19a-af0b-473c-ac80-a10eb4e5a7d2",
   "metadata": {},
   "outputs": [
    {
     "name": "stdout",
     "output_type": "stream",
     "text": [
      "[[0.60117001 0.00822593 0.15481015 0.45345113 0.56169144 0.45716461\n",
      "  0.70049239 0.31826142 0.29013159 0.35672758]\n",
      " [0.47258855 0.63046966 0.71900715 0.53807021 0.72167706 0.76143002\n",
      "  0.5367401  0.51785293 0.03557509 0.55384281]\n",
      " [0.54245898 0.33895379 0.92236747 0.5957384  0.35668771 0.96890089\n",
      "  0.7646705  0.65832751 0.41185916 0.68530276]\n",
      " [0.3470595  0.46011423 0.63717225 0.21128312 0.16933229 0.54016402\n",
      "  0.29957946 0.288187   0.41570548 0.42231308]\n",
      " [0.21364271 0.67474312 0.09903974 0.4312101  0.29343744 0.60846586\n",
      "  0.21427523 0.90953321 0.2314893  0.91975851]\n",
      " [0.16549543 0.17319276 0.93591248 0.17805495 0.87159369 0.83385128\n",
      "  0.85456428 0.32146281 0.14219794 0.65971615]\n",
      " [0.57419835 0.31352187 0.29345056 0.34420437 0.4903171  0.37022673\n",
      "  0.23839041 0.44475604 0.22597467 0.76507504]\n",
      " [0.41164288 0.41397492 0.30075102 0.74772832 0.22045522 0.39261884\n",
      "  0.87835506 0.16554566 0.08041258 0.90350276]\n",
      " [0.55768505 0.09728268 0.47180163 0.0355238  0.22287061 0.51205061\n",
      "  0.59495744 0.55770262 0.47846942 0.82045874]\n",
      " [0.30933497 0.63455069 0.94911069 0.00393501 0.81756174 0.11533698\n",
      "  0.18425488 0.90862062 0.09638141 0.86414446]]\n",
      "(10, 10)\n"
     ]
    }
   ],
   "source": [
    "# Criando uma matriz de 10x10 de números aleatórios entre 0 e 1\n",
    "n = np.random.rand(10,10)\n",
    "print(n)\n",
    "# Dimensões da matrix\n",
    "print(n.shape)"
   ]
  },
  {
   "cell_type": "code",
   "execution_count": 97,
   "id": "275e84f4-49d4-47f3-b410-2171f981fddb",
   "metadata": {},
   "outputs": [
    {
     "data": {
      "text/plain": [
       "array([0.60117001, 0.00822593, 0.15481015, 0.45345113, 0.56169144,\n",
       "       0.45716461, 0.70049239, 0.31826142, 0.29013159, 0.35672758])"
      ]
     },
     "execution_count": 97,
     "metadata": {},
     "output_type": "execute_result"
    }
   ],
   "source": [
    "# Acessando valores da matriz\n",
    "n[0,:]"
   ]
  },
  {
   "cell_type": "code",
   "execution_count": 98,
   "id": "d315d193-f799-49f1-a985-f6a4bfab05d3",
   "metadata": {},
   "outputs": [
    {
     "data": {
      "text/plain": [
       "array([0.60117001, 0.47258855, 0.54245898, 0.3470595 , 0.21364271,\n",
       "       0.16549543, 0.57419835, 0.41164288, 0.55768505, 0.30933497])"
      ]
     },
     "execution_count": 98,
     "metadata": {},
     "output_type": "execute_result"
    }
   ],
   "source": [
    "n[:,0]"
   ]
  },
  {
   "cell_type": "code",
   "execution_count": 99,
   "id": "e636a919-2c4d-4186-82f6-28e7b383684e",
   "metadata": {},
   "outputs": [
    {
     "data": {
      "text/plain": [
       "array([[0.00822593, 0.15481015, 0.45345113, 0.56169144],\n",
       "       [0.63046966, 0.71900715, 0.53807021, 0.72167706],\n",
       "       [0.33895379, 0.92236747, 0.5957384 , 0.35668771],\n",
       "       [0.46011423, 0.63717225, 0.21128312, 0.16933229],\n",
       "       [0.67474312, 0.09903974, 0.4312101 , 0.29343744],\n",
       "       [0.17319276, 0.93591248, 0.17805495, 0.87159369],\n",
       "       [0.31352187, 0.29345056, 0.34420437, 0.4903171 ],\n",
       "       [0.41397492, 0.30075102, 0.74772832, 0.22045522],\n",
       "       [0.09728268, 0.47180163, 0.0355238 , 0.22287061],\n",
       "       [0.63455069, 0.94911069, 0.00393501, 0.81756174]])"
      ]
     },
     "execution_count": 99,
     "metadata": {},
     "output_type": "execute_result"
    }
   ],
   "source": [
    "n[:,1:5]"
   ]
  },
  {
   "cell_type": "code",
   "execution_count": 100,
   "id": "b5cac8a6-fd44-4f83-80bd-8dae24a50949",
   "metadata": {},
   "outputs": [
    {
     "data": {
      "text/plain": [
       "array([0.00822593, 0.15481015, 0.45345113, 0.56169144])"
      ]
     },
     "execution_count": 100,
     "metadata": {},
     "output_type": "execute_result"
    }
   ],
   "source": [
    "n[0,1:5]"
   ]
  },
  {
   "cell_type": "code",
   "execution_count": 101,
   "id": "45912f6c-3e45-4fdd-87db-eb454b0bc540",
   "metadata": {},
   "outputs": [
    {
     "data": {
      "text/plain": [
       "0.3567275751643686"
      ]
     },
     "execution_count": 101,
     "metadata": {},
     "output_type": "execute_result"
    }
   ],
   "source": [
    "n[0,-1]"
   ]
  },
  {
   "cell_type": "code",
   "execution_count": 102,
   "id": "dcfc97fb-2f16-4d51-afd0-f46c35fc0a0b",
   "metadata": {},
   "outputs": [
    {
     "data": {
      "text/plain": [
       "array([0.56169144, 0.45716461, 0.70049239, 0.31826142, 0.29013159])"
      ]
     },
     "execution_count": 102,
     "metadata": {},
     "output_type": "execute_result"
    }
   ],
   "source": [
    "n[0,4:-1]"
   ]
  },
  {
   "cell_type": "code",
   "execution_count": 103,
   "id": "3f406f03-037e-45de-bedb-c505d21d6d8f",
   "metadata": {},
   "outputs": [
    {
     "data": {
      "text/plain": [
       "array([0.56169144, 0.45716461, 0.70049239, 0.31826142, 0.29013159,\n",
       "       0.35672758])"
      ]
     },
     "execution_count": 103,
     "metadata": {},
     "output_type": "execute_result"
    }
   ],
   "source": [
    "n[0,4:]"
   ]
  },
  {
   "cell_type": "code",
   "execution_count": 104,
   "id": "2e8425d2-287a-45ad-92cc-99d75577467c",
   "metadata": {},
   "outputs": [
    {
     "name": "stdout",
     "output_type": "stream",
     "text": [
      "[[ 1.10056041 -3.19102593 -0.25611784  0.81857013  1.03263529  0.82672615\n",
      "   1.25346613  0.46455575  0.37201722  0.57865503]\n",
      " [ 0.85990776  1.14814766  1.27955394  0.98967168  1.28326039  1.33688091\n",
      "   0.98719662  0.95137392 -1.72667179  1.01856355]\n",
      " [ 0.99779511  0.52754642  1.52862634  1.09148427  0.57854327  1.57784496\n",
      "   1.34112766  1.19138518  0.72236407  1.23154336]\n",
      " [ 0.55117886  0.83315743  1.15872266  0.05488165 -0.16645434  0.99355546\n",
      "   0.40406234  0.36529222  0.73165966  0.74742957]\n",
      " [ 0.06598767  1.2160147  -0.70279614  0.76827809  0.3833471   1.11262343\n",
      "   0.06894394  1.51461414  0.1462163   1.52579378]\n",
      " [-0.18937381 -0.14391215  1.5432046  -0.11622518  1.47200599  1.42773769\n",
      "   1.45227436  0.47456448 -0.34109734  1.19349231]\n",
      " [ 1.05465753  0.44955175  0.3833918   0.54291821  0.89673496  0.61579825\n",
      "   0.17559234  0.79920854  0.12210557  1.34165655]\n",
      " [ 0.72183882  0.72748803  0.40796537  1.31872234  0.09737723  0.67452189\n",
      "   1.47973355 -0.18907032 -0.91114673  1.5079618 ]\n",
      " [ 1.02547701 -0.72069638  0.85824125 -1.72811446  0.108274    0.9401061\n",
      "   1.0901725   1.02550852  0.87227493  1.41154625]\n",
      " [ 0.43610737  1.15459981  1.55720807 -3.92840365  1.40800906 -0.5504593\n",
      "  -0.08199737  1.51361028 -0.73000402  1.46342259]]\n"
     ]
    }
   ],
   "source": [
    "an = np.log(n*5)\n",
    "print(an)"
   ]
  },
  {
   "cell_type": "code",
   "execution_count": null,
   "id": "7996c51a-632a-419d-9680-164afc8f3d80",
   "metadata": {},
   "outputs": [],
   "source": []
  }
 ],
 "metadata": {
  "kernelspec": {
   "display_name": "Python 3 (ipykernel)",
   "language": "python",
   "name": "python3"
  },
  "language_info": {
   "codemirror_mode": {
    "name": "ipython",
    "version": 3
   },
   "file_extension": ".py",
   "mimetype": "text/x-python",
   "name": "python",
   "nbconvert_exporter": "python",
   "pygments_lexer": "ipython3",
   "version": "3.11.8"
  }
 },
 "nbformat": 4,
 "nbformat_minor": 5
}
